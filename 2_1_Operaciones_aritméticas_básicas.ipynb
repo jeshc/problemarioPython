{
  "nbformat": 4,
  "nbformat_minor": 0,
  "metadata": {
    "kernelspec": {
      "name": "python36",
      "display_name": "Python 3.6",
      "language": "python"
    },
    "language_info": {
      "mimetype": "text/x-python",
      "nbconvert_exporter": "python",
      "name": "python",
      "pygments_lexer": "ipython3",
      "version": "3.6.6",
      "file_extension": ".py",
      "codemirror_mode": {
        "version": 3,
        "name": "ipython"
      }
    },
    "colab": {
      "name": "2.1 Operaciones aritméticas básicas.ipynb",
      "version": "0.3.2",
      "provenance": [],
      "collapsed_sections": []
    }
  },
  "cells": [
    {
      "cell_type": "markdown",
      "metadata": {
        "collapsed": true,
        "id": "tOUDxWy_HDjL",
        "colab_type": "text"
      },
      "source": [
        "# Las cuatro operaciones aritméticas básicas son la suma (+), la resta (-), la multiplicación (*) y la división (/).\n",
        "#### Al hacer operaciones en las que intervienen números enteros y decimales, el resultado es siempre decimal. En el caso de que el resultado no tenga parte decimal, Python escribe 0 como parte decimal para indicar que el resultado es un número decimal\n",
        "    6.6 * 3\n",
        "    13.5"
      ]
    },
    {
      "cell_type": "markdown",
      "metadata": {
        "id": "pOpinS3VIFKF",
        "colab_type": "text"
      },
      "source": [
        "![texto alternativo](https://github.com/jeshc/profespython/blob/master/ninja.jpg?raw=1)\n",
        "\n"
      ]
    },
    {
      "cell_type": "code",
      "metadata": {
        "trusted": true,
        "id": "wR4DZ70BHDjO",
        "colab_type": "code",
        "outputId": "b71b1700-5df9-4777-fec3-94660787af8c",
        "colab": {
          "base_uri": "https://localhost:8080/",
          "height": 68
        }
      },
      "source": [
        "##Ejemplo de operaciones aritmeticas Basicas\n",
        "print(\"Multiplicacion de dos numeros\")\n",
        "4.5*3\n",
        "\n"
      ],
      "execution_count": 0,
      "outputs": [
        {
          "output_type": "stream",
          "text": [
            "Multiplicacion de dos numeros\n",
            "introduce un nombreJesus\n",
            "suseJ\n"
          ],
          "name": "stdout"
        }
      ]
    },
    {
      "cell_type": "code",
      "metadata": {
        "trusted": true,
        "id": "FAQyEsB3HDjx",
        "colab_type": "code",
        "outputId": "ffbe440c-24f7-4447-d604-f110a24ebb91",
        "colab": {}
      },
      "source": [
        "print(\"Suma de dos numeros\")\n",
        "4.5+3\n",
        "    "
      ],
      "execution_count": 0,
      "outputs": [
        {
          "output_type": "stream",
          "text": [
            "Suma de dos numeros\n"
          ],
          "name": "stdout"
        },
        {
          "output_type": "execute_result",
          "data": {
            "text/plain": [
              "7.5"
            ]
          },
          "metadata": {
            "tags": []
          },
          "execution_count": 5
        }
      ]
    },
    {
      "cell_type": "code",
      "metadata": {
        "trusted": true,
        "id": "6fAh1BWJHDkJ",
        "colab_type": "code",
        "outputId": "412814e5-a77b-4aca-bf02-b9d52b4e75fa",
        "colab": {}
      },
      "source": [
        "print(\"Resta de dos numeros\")\n",
        "4.5-3"
      ],
      "execution_count": 0,
      "outputs": [
        {
          "output_type": "stream",
          "text": [
            "Resta de dos numeros\n"
          ],
          "name": "stdout"
        },
        {
          "output_type": "execute_result",
          "data": {
            "text/plain": [
              "1.5"
            ]
          },
          "metadata": {
            "tags": []
          },
          "execution_count": 6
        }
      ]
    },
    {
      "cell_type": "markdown",
      "metadata": {
        "id": "6f2PnpEdHDkP",
        "colab_type": "text"
      },
      "source": [
        "### Al dividir números enteros, el resultado es siempre decimal, aunque sea un número entero. Cuando Python escribe un número decimal, lo escribe siempre con parte decimal, aunque sea nula."
      ]
    },
    {
      "cell_type": "code",
      "metadata": {
        "trusted": true,
        "id": "3BQkb-PwHDkR",
        "colab_type": "code",
        "outputId": "e64aea26-26ae-4555-a66d-92efcdf88970",
        "colab": {}
      },
      "source": [
        "print(\"Divicion de dos numeros\")\n",
        "9/3"
      ],
      "execution_count": 0,
      "outputs": [
        {
          "output_type": "stream",
          "text": [
            "Divicion de dos numeros\n"
          ],
          "name": "stdout"
        },
        {
          "output_type": "execute_result",
          "data": {
            "text/plain": [
              "3.0"
            ]
          },
          "metadata": {
            "tags": []
          },
          "execution_count": 8
        }
      ]
    },
    {
      "cell_type": "code",
      "metadata": {
        "trusted": true,
        "id": "lu2fP9cEHDkc",
        "colab_type": "code",
        "outputId": "a0950b93-5410-4fdf-c544-4fdeb5bbac3e",
        "colab": {}
      },
      "source": [
        "## Dividir por cero genera un error:\n",
        "10/0"
      ],
      "execution_count": 0,
      "outputs": [
        {
          "output_type": "error",
          "ename": "ZeroDivisionError",
          "evalue": "division by zero",
          "traceback": [
            "\u001b[0;31m---------------------------------------------------------------------------\u001b[0m",
            "\u001b[0;31mZeroDivisionError\u001b[0m                         Traceback (most recent call last)",
            "\u001b[0;32m<ipython-input-9-0f75fd066d72>\u001b[0m in \u001b[0;36m<module>\u001b[0;34m\u001b[0m\n\u001b[1;32m      1\u001b[0m \u001b[0;31m## Dividir por cero genera un error:\u001b[0m\u001b[0;34m\u001b[0m\u001b[0;34m\u001b[0m\u001b[0m\n\u001b[0;32m----> 2\u001b[0;31m \u001b[0;36m10\u001b[0m\u001b[0;34m/\u001b[0m\u001b[0;36m0\u001b[0m\u001b[0;34m\u001b[0m\u001b[0m\n\u001b[0m",
            "\u001b[0;31mZeroDivisionError\u001b[0m: division by zero"
          ]
        }
      ]
    },
    {
      "cell_type": "markdown",
      "metadata": {
        "id": "3xpeHyrZHDkx",
        "colab_type": "text"
      },
      "source": [
        "### Ejercicio: Crear un programa que realize la siguiente operacion\n",
        "    Datos:  a= 2   b= 6  c= 5    \n",
        "    Formula: ((a+b)/c)+a\n",
        "    3.6"
      ]
    },
    {
      "cell_type": "code",
      "metadata": {
        "trusted": true,
        "id": "2xufk1QHHDkz",
        "colab_type": "code",
        "colab": {}
      },
      "source": [
        "## INgresa tu codigo"
      ],
      "execution_count": 0,
      "outputs": []
    },
    {
      "cell_type": "markdown",
      "metadata": {
        "id": "HFzKVloEHDk5",
        "colab_type": "text"
      },
      "source": [
        "# Cociente y resto de una división\n",
        "### El cociente y resto de una división están relacionados con el dividendo y divisor mediante la fórmula:\n",
        "    Dividendo = divisor * cociente + resto\n",
        "#### El cociente es siempre un número entero, pero el resto puede ser entero o decimal. En Python, el resto y el divisor tienen siempre el mismo signo y en valor absoluto (sin signo) el resto es siempre inferior al divisor.\n",
        "\n",
        "#### El cociente de una división se calcula en Python con el operador //. El resultado es siempre un número entero, pero será de tipo entero o decimal dependiendo del tipo de los números empleados\n"
      ]
    },
    {
      "cell_type": "code",
      "metadata": {
        "trusted": true,
        "id": "gA0AbJi0HDk7",
        "colab_type": "code",
        "outputId": "5085ab62-efc1-426b-ca2c-31d75ec1943a",
        "colab": {}
      },
      "source": [
        "## Cociente de una división Ejemplo 1\n",
        "17//3"
      ],
      "execution_count": 0,
      "outputs": [
        {
          "output_type": "execute_result",
          "data": {
            "text/plain": [
              "5"
            ]
          },
          "metadata": {
            "tags": []
          },
          "execution_count": 15
        }
      ]
    },
    {
      "cell_type": "code",
      "metadata": {
        "trusted": true,
        "id": "rocRT1TlHDlI",
        "colab_type": "code",
        "outputId": "51607624-7a82-4350-9ff4-fe97c17534c9",
        "colab": {}
      },
      "source": [
        "## Cociente de una división Ejemplo 2\n",
        "17//3.0"
      ],
      "execution_count": 0,
      "outputs": [
        {
          "output_type": "execute_result",
          "data": {
            "text/plain": [
              "5.0"
            ]
          },
          "metadata": {
            "tags": []
          },
          "execution_count": 16
        }
      ]
    },
    {
      "cell_type": "markdown",
      "metadata": {
        "id": "lE4744rdHDlX",
        "colab_type": "text"
      },
      "source": [
        "### Ejercicio: obtener el cociente de las siguientes operaciones:\n",
        "    a) 18/8.3 \n",
        "    b) 56/2.3\n",
        "    c) 89/45.23\n",
        "    d) 78/89\n",
        "### y anexar con un print los datos de la divicion por cada ejercicio\n",
        "    Ejemplo: \n",
        "    a) 18/8.3\n",
        "    5.454545454545455"
      ]
    },
    {
      "cell_type": "code",
      "metadata": {
        "trusted": true,
        "id": "QTYuPc-eHDls",
        "colab_type": "code",
        "colab": {}
      },
      "source": [
        "# Ejercicio a\n"
      ],
      "execution_count": 0,
      "outputs": []
    },
    {
      "cell_type": "code",
      "metadata": {
        "trusted": true,
        "id": "nQPVwhHPHDl2",
        "colab_type": "code",
        "colab": {}
      },
      "source": [
        "# Ejercicio b"
      ],
      "execution_count": 0,
      "outputs": []
    },
    {
      "cell_type": "code",
      "metadata": {
        "trusted": true,
        "id": "ODk0sOS1HDmC",
        "colab_type": "code",
        "colab": {}
      },
      "source": [
        "# Ejercicio c"
      ],
      "execution_count": 0,
      "outputs": []
    },
    {
      "cell_type": "code",
      "metadata": {
        "trusted": true,
        "id": "6fOP1kRwHDmI",
        "colab_type": "code",
        "colab": {}
      },
      "source": [
        "# Ejercicio d"
      ],
      "execution_count": 0,
      "outputs": []
    },
    {
      "cell_type": "markdown",
      "metadata": {
        "id": "RsCSZF_3HDmP",
        "colab_type": "text"
      },
      "source": [
        "# Residuo de una divicion \n",
        "## El resto de una división se calcula en Python con el operador %. El resultado tendrá tipo entero o decimal, de acuerdo con el resultado de la operación.\n",
        "    10 % 3\n",
        "        Resultado: 1"
      ]
    },
    {
      "cell_type": "code",
      "metadata": {
        "trusted": true,
        "id": "40FzgIGQHDmR",
        "colab_type": "code",
        "outputId": "42270348-c7df-48fa-d682-1b71c6501df4",
        "colab": {}
      },
      "source": [
        "##Ejemplo de la obtencion del residuo\n",
        "print (\"Residuo\")\n",
        "10%3"
      ],
      "execution_count": 0,
      "outputs": [
        {
          "output_type": "stream",
          "text": [
            "Residuo\n"
          ],
          "name": "stdout"
        },
        {
          "output_type": "execute_result",
          "data": {
            "text/plain": [
              "1"
            ]
          },
          "metadata": {
            "tags": []
          },
          "execution_count": 19
        }
      ]
    },
    {
      "cell_type": "code",
      "metadata": {
        "trusted": true,
        "id": "gSQ5PAWLHDmX",
        "colab_type": "code",
        "outputId": "ed6c6c34-226f-4099-fc07-404114920fd3",
        "colab": {}
      },
      "source": [
        "### Cuando el resultado es decimal, pueden aparecer los problemas de redondeo\n",
        "10.2 % 3"
      ],
      "execution_count": 0,
      "outputs": [
        {
          "output_type": "execute_result",
          "data": {
            "text/plain": [
              "1.1999999999999993"
            ]
          },
          "metadata": {
            "tags": []
          },
          "execution_count": 20
        }
      ]
    },
    {
      "cell_type": "markdown",
      "metadata": {
        "id": "hogxKD9jHDmb",
        "colab_type": "text"
      },
      "source": [
        "### Ejercicio: obtener el residuo de las siguientes operaciones:\n",
        "    a) 18/8.3 \n",
        "    b) 56/2.3\n",
        "    c) 89/45.23\n",
        "    d) 78/89\n",
        "### y anexar con un print los datos de la divicion por cada ejercicio\n",
        "    Ejemplo: \n",
        "    a) 18/8.3\n",
        "    2.0"
      ]
    },
    {
      "cell_type": "code",
      "metadata": {
        "trusted": true,
        "id": "n-dt0Qr_HDmd",
        "colab_type": "code",
        "colab": {}
      },
      "source": [
        "#Ejercicio a"
      ],
      "execution_count": 0,
      "outputs": []
    },
    {
      "cell_type": "code",
      "metadata": {
        "trusted": true,
        "id": "0e5VOr61HDmi",
        "colab_type": "code",
        "colab": {}
      },
      "source": [
        "#Ejercicio b"
      ],
      "execution_count": 0,
      "outputs": []
    },
    {
      "cell_type": "code",
      "metadata": {
        "trusted": true,
        "id": "AM4qx49dHDmm",
        "colab_type": "code",
        "colab": {}
      },
      "source": [
        "#Ejercicio c"
      ],
      "execution_count": 0,
      "outputs": []
    },
    {
      "cell_type": "code",
      "metadata": {
        "trusted": true,
        "id": "N6t7gIsNHDmt",
        "colab_type": "code",
        "colab": {}
      },
      "source": [
        "#Ejercicio d"
      ],
      "execution_count": 0,
      "outputs": []
    }
  ]
}