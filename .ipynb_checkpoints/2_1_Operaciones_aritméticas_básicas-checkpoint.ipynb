{
 "cells": [
  {
   "cell_type": "markdown",
   "metadata": {
    "colab_type": "text",
    "collapsed": true,
    "id": "tOUDxWy_HDjL"
   },
   "source": [
    "##### Las cuatro operaciones aritméticas básicas son la suma (+), la resta (-), la multiplicación (*) y la división (/).\n",
    "#### Al hacer operaciones en las que intervienen números enteros y decimales, el resultado es siempre decimal. En el caso de que el resultado no tenga parte decimal, Python escribe 0 como parte decimal para indicar que el resultado es un número decimal\n",
    "    4.5 * 3\n",
    "    13.5"
   ]
  },
  {
   "cell_type": "code",
   "execution_count": 2,
   "metadata": {
    "colab": {
     "base_uri": "https://localhost:8080/",
     "height": 68
    },
    "colab_type": "code",
    "id": "wR4DZ70BHDjO",
    "outputId": "b71b1700-5df9-4777-fec3-94660787af8c"
   },
   "outputs": [
    {
     "name": "stdout",
     "output_type": "stream",
     "text": [
      "Multiplicación de dos números\n"
     ]
    },
    {
     "data": {
      "text/plain": [
       "13.5"
      ]
     },
     "execution_count": 2,
     "metadata": {},
     "output_type": "execute_result"
    }
   ],
   "source": [
    "##Ejemplo de operaciones aritméticas Básicas\n",
    "print(\"Multiplicación de dos números\")\n",
    "4.5*3\n",
    "\n"
   ]
  },
  {
   "cell_type": "code",
   "execution_count": 3,
   "metadata": {
    "colab": {},
    "colab_type": "code",
    "id": "FAQyEsB3HDjx",
    "outputId": "ffbe440c-24f7-4447-d604-f110a24ebb91"
   },
   "outputs": [
    {
     "name": "stdout",
     "output_type": "stream",
     "text": [
      "Suma de dos números\n"
     ]
    },
    {
     "data": {
      "text/plain": [
       "7.5"
      ]
     },
     "execution_count": 3,
     "metadata": {},
     "output_type": "execute_result"
    }
   ],
   "source": [
    "print(\"Suma de dos números\")\n",
    "4.5+3\n",
    "    "
   ]
  },
  {
   "cell_type": "code",
   "execution_count": 4,
   "metadata": {
    "colab": {},
    "colab_type": "code",
    "id": "6fAh1BWJHDkJ",
    "outputId": "412814e5-a77b-4aca-bf02-b9d52b4e75fa"
   },
   "outputs": [
    {
     "name": "stdout",
     "output_type": "stream",
     "text": [
      "Resta de dos números\n"
     ]
    },
    {
     "data": {
      "text/plain": [
       "1.5"
      ]
     },
     "execution_count": 4,
     "metadata": {},
     "output_type": "execute_result"
    }
   ],
   "source": [
    "print(\"Resta de dos números\")\n",
    "4.5-3"
   ]
  },
  {
   "cell_type": "markdown",
   "metadata": {
    "colab_type": "text",
    "id": "6f2PnpEdHDkP"
   },
   "source": [
    "### Al dividir números enteros, el resultado es siempre decimal, aunque sea un número entero. Cuando Python escribe un número decimal, lo escribe siempre con parte decimal, aunque sea nula."
   ]
  },
  {
   "cell_type": "code",
   "execution_count": 5,
   "metadata": {
    "colab": {},
    "colab_type": "code",
    "id": "3BQkb-PwHDkR",
    "outputId": "e64aea26-26ae-4555-a66d-92efcdf88970"
   },
   "outputs": [
    {
     "name": "stdout",
     "output_type": "stream",
     "text": [
      "Divicion de dos números\n"
     ]
    },
    {
     "data": {
      "text/plain": [
       "3.0"
      ]
     },
     "execution_count": 5,
     "metadata": {},
     "output_type": "execute_result"
    }
   ],
   "source": [
    "print(\"Divicion de dos números\")\n",
    "9/3"
   ]
  },
  {
   "cell_type": "code",
   "execution_count": 0,
   "metadata": {
    "colab": {},
    "colab_type": "code",
    "id": "lu2fP9cEHDkc",
    "outputId": "a0950b93-5410-4fdf-c544-4fdeb5bbac3e"
   },
   "outputs": [
    {
     "ename": "ZeroDivisionError",
     "evalue": "division by zero",
     "output_type": "error",
     "traceback": [
      "\u001b[0;31m---------------------------------------------------------------------------\u001b[0m",
      "\u001b[0;31mZeroDivisionError\u001b[0m                         Traceback (most recent call last)",
      "\u001b[0;32m<ipython-input-9-0f75fd066d72>\u001b[0m in \u001b[0;36m<module>\u001b[0;34m\u001b[0m\n\u001b[1;32m      1\u001b[0m \u001b[0;31m## Dividir por cero genera un error:\u001b[0m\u001b[0;34m\u001b[0m\u001b[0;34m\u001b[0m\u001b[0m\n\u001b[0;32m----> 2\u001b[0;31m \u001b[0;36m10\u001b[0m\u001b[0;34m/\u001b[0m\u001b[0;36m0\u001b[0m\u001b[0;34m\u001b[0m\u001b[0m\n\u001b[0m",
      "\u001b[0;31mZeroDivisionError\u001b[0m: division by zero"
     ]
    }
   ],
   "source": [
    "## Dividir por cero genera un error:\n",
    "10/0"
   ]
  },
  {
   "cell_type": "markdown",
   "metadata": {
    "colab_type": "text",
    "id": "3xpeHyrZHDkx"
   },
   "source": [
    "### Ejercicio: Crear un programa que realize la siguiente operación\n",
    "    Datos:  a= 2   b= 6  c= 5    \n",
    "    Formula: ((a+b)/c)+a\n",
    "    3.6"
   ]
  },
  {
   "cell_type": "code",
   "execution_count": 0,
   "metadata": {
    "colab": {},
    "colab_type": "code",
    "id": "2xufk1QHHDkz"
   },
   "outputs": [],
   "source": [
    "## Ingresa tu código\n",
    "\n"
   ]
  },
  {
   "cell_type": "markdown",
   "metadata": {
    "colab_type": "text",
    "id": "HFzKVloEHDk5"
   },
   "source": [
    "# Cociente y resto de una división\n",
    "### El cociente y resto de una división están relacionados con el dividendo y divisor mediante la fórmula:\n",
    "    Dividendo = divisor * cociente + resto\n",
    "#### El cociente es siempre un número entero, pero el resto puede ser entero o decimal. En Python, el resto y el divisor tienen siempre el mismo signo y en valor absoluto (sin signo) el resto es siempre inferior al divisor.\n",
    "\n",
    "#### El cociente de una división se calcula en Python con el operador //. El resultado es siempre un número entero, pero será de tipo entero o decimal dependiendo del tipo de los números empleados\n"
   ]
  },
  {
   "cell_type": "code",
   "execution_count": 6,
   "metadata": {
    "colab": {},
    "colab_type": "code",
    "id": "gA0AbJi0HDk7",
    "outputId": "5085ab62-efc1-426b-ca2c-31d75ec1943a"
   },
   "outputs": [
    {
     "data": {
      "text/plain": [
       "5"
      ]
     },
     "execution_count": 6,
     "metadata": {},
     "output_type": "execute_result"
    }
   ],
   "source": [
    "## Cociente de una división Ejemplo 1\n",
    "17//3"
   ]
  },
  {
   "cell_type": "code",
   "execution_count": 7,
   "metadata": {
    "colab": {},
    "colab_type": "code",
    "id": "rocRT1TlHDlI",
    "outputId": "51607624-7a82-4350-9ff4-fe97c17534c9"
   },
   "outputs": [
    {
     "data": {
      "text/plain": [
       "5.0"
      ]
     },
     "execution_count": 7,
     "metadata": {},
     "output_type": "execute_result"
    }
   ],
   "source": [
    "## Cociente de una división Ejemplo 2\n",
    "17//3.0"
   ]
  },
  {
   "cell_type": "markdown",
   "metadata": {
    "colab_type": "text",
    "id": "lE4744rdHDlX"
   },
   "source": [
    "### Ejercicio: obtener el cociente de las siguientes operaciones:\n",
    "    a) 18/8.3 \n",
    "    b) 56/2.3\n",
    "    c) 89/45.23\n",
    "    d) 78/89\n",
    "### y anexar con un print los datos de la división por cada ejercicio\n",
    "    Ejemplo: \n",
    "    a) 18/8.3\n",
    "    5.454545454545455"
   ]
  },
  {
   "cell_type": "code",
   "execution_count": 0,
   "metadata": {
    "colab": {},
    "colab_type": "code",
    "id": "QTYuPc-eHDls"
   },
   "outputs": [],
   "source": [
    "# Ejercicio a\n"
   ]
  },
  {
   "cell_type": "code",
   "execution_count": 0,
   "metadata": {
    "colab": {},
    "colab_type": "code",
    "id": "nQPVwhHPHDl2"
   },
   "outputs": [],
   "source": [
    "# Ejercicio b\n"
   ]
  },
  {
   "cell_type": "code",
   "execution_count": 0,
   "metadata": {
    "colab": {},
    "colab_type": "code",
    "id": "ODk0sOS1HDmC"
   },
   "outputs": [],
   "source": [
    "# Ejercicio c\n"
   ]
  },
  {
   "cell_type": "code",
   "execution_count": 0,
   "metadata": {
    "colab": {},
    "colab_type": "code",
    "id": "6fOP1kRwHDmI"
   },
   "outputs": [],
   "source": [
    "# Ejercicio d\n"
   ]
  },
  {
   "cell_type": "markdown",
   "metadata": {
    "colab_type": "text",
    "id": "RsCSZF_3HDmP"
   },
   "source": [
    "# Residuo de una división \n",
    "## El resto de una división se calcula en Python con el operador %. El resultado tendrá tipo entero o decimal, de acuerdo con el resultado de la operación.\n",
    "    10 % 3\n",
    "        Resultado: 1"
   ]
  },
  {
   "cell_type": "code",
   "execution_count": 0,
   "metadata": {
    "colab": {},
    "colab_type": "code",
    "id": "40FzgIGQHDmR",
    "outputId": "42270348-c7df-48fa-d682-1b71c6501df4"
   },
   "outputs": [
    {
     "name": "stdout",
     "output_type": "stream",
     "text": [
      "Residuo\n"
     ]
    },
    {
     "data": {
      "text/plain": [
       "1"
      ]
     },
     "execution_count": 19,
     "metadata": {
      "tags": []
     },
     "output_type": "execute_result"
    }
   ],
   "source": [
    "##Ejemplo de la obtención del residuo\n",
    "print (\"Residuo\")\n",
    "10%3"
   ]
  },
  {
   "cell_type": "code",
   "execution_count": 0,
   "metadata": {
    "colab": {},
    "colab_type": "code",
    "id": "gSQ5PAWLHDmX",
    "outputId": "ed6c6c34-226f-4099-fc07-404114920fd3"
   },
   "outputs": [
    {
     "data": {
      "text/plain": [
       "1.1999999999999993"
      ]
     },
     "execution_count": 20,
     "metadata": {
      "tags": []
     },
     "output_type": "execute_result"
    }
   ],
   "source": [
    "### Cuando el resultado es decimal, pueden aparecer los problemas de redondeo\n",
    "10.2 % 3"
   ]
  },
  {
   "cell_type": "markdown",
   "metadata": {
    "colab_type": "text",
    "id": "hogxKD9jHDmb"
   },
   "source": [
    "### Ejercicio: obtener el residuo de las siguientes operaciones:\n",
    "    a) 18/8.3 \n",
    "    b) 56/2.3\n",
    "    c) 89/45.23\n",
    "    d) 78/89\n",
    "### y anexar con un print los datos de la división por cada ejercicio\n",
    "    Ejemplo: \n",
    "    a) 18/8.3\n",
    "    2.0"
   ]
  },
  {
   "cell_type": "code",
   "execution_count": 0,
   "metadata": {
    "colab": {},
    "colab_type": "code",
    "id": "n-dt0Qr_HDmd"
   },
   "outputs": [],
   "source": [
    "#Ejercicio a"
   ]
  },
  {
   "cell_type": "code",
   "execution_count": 0,
   "metadata": {
    "colab": {},
    "colab_type": "code",
    "id": "0e5VOr61HDmi"
   },
   "outputs": [],
   "source": [
    "#Ejercicio b"
   ]
  },
  {
   "cell_type": "code",
   "execution_count": 0,
   "metadata": {
    "colab": {},
    "colab_type": "code",
    "id": "AM4qx49dHDmm"
   },
   "outputs": [],
   "source": [
    "#Ejercicio c"
   ]
  },
  {
   "cell_type": "code",
   "execution_count": 0,
   "metadata": {
    "colab": {},
    "colab_type": "code",
    "id": "N6t7gIsNHDmt"
   },
   "outputs": [],
   "source": [
    "#Ejercicio d"
   ]
  }
 ],
 "metadata": {
  "colab": {
   "collapsed_sections": [],
   "name": "2.1 Operaciones aritméticas básicas.ipynb",
   "provenance": [],
   "version": "0.3.2"
  },
  "kernelspec": {
   "display_name": "Python 3",
   "language": "python",
   "name": "python3"
  },
  "language_info": {
   "codemirror_mode": {
    "name": "ipython",
    "version": 3
   },
   "file_extension": ".py",
   "mimetype": "text/x-python",
   "name": "python",
   "nbconvert_exporter": "python",
   "pygments_lexer": "ipython3",
   "version": "3.7.3"
  }
 },
 "nbformat": 4,
 "nbformat_minor": 1
}
